{
 "cells": [
  {
   "cell_type": "code",
   "execution_count": 3,
   "id": "46099485",
   "metadata": {},
   "outputs": [],
   "source": [
    "import pandas as pd\n",
    "import numpy as np\n",
    "import matplotlib.pylab as plt\n",
    "import seaborn as sns"
   ]
  },
  {
   "cell_type": "code",
   "execution_count": 4,
   "id": "86773814",
   "metadata": {},
   "outputs": [],
   "source": [
    "df = pd.read_csv('Quikr Project/quikr_car.csv')"
   ]
  },
  {
   "cell_type": "code",
   "execution_count": 5,
   "id": "52017b8f",
   "metadata": {},
   "outputs": [
    {
     "data": {
      "text/html": [
       "<div>\n",
       "<style scoped>\n",
       "    .dataframe tbody tr th:only-of-type {\n",
       "        vertical-align: middle;\n",
       "    }\n",
       "\n",
       "    .dataframe tbody tr th {\n",
       "        vertical-align: top;\n",
       "    }\n",
       "\n",
       "    .dataframe thead th {\n",
       "        text-align: right;\n",
       "    }\n",
       "</style>\n",
       "<table border=\"1\" class=\"dataframe\">\n",
       "  <thead>\n",
       "    <tr style=\"text-align: right;\">\n",
       "      <th></th>\n",
       "      <th>name</th>\n",
       "      <th>company</th>\n",
       "      <th>year</th>\n",
       "      <th>Price</th>\n",
       "      <th>kms_driven</th>\n",
       "      <th>fuel_type</th>\n",
       "    </tr>\n",
       "  </thead>\n",
       "  <tbody>\n",
       "    <tr>\n",
       "      <th>0</th>\n",
       "      <td>Hyundai Santro Xing XO eRLX Euro III</td>\n",
       "      <td>Hyundai</td>\n",
       "      <td>2007</td>\n",
       "      <td>80,000</td>\n",
       "      <td>45,000 kms</td>\n",
       "      <td>Petrol</td>\n",
       "    </tr>\n",
       "    <tr>\n",
       "      <th>1</th>\n",
       "      <td>Mahindra Jeep CL550 MDI</td>\n",
       "      <td>Mahindra</td>\n",
       "      <td>2006</td>\n",
       "      <td>4,25,000</td>\n",
       "      <td>40 kms</td>\n",
       "      <td>Diesel</td>\n",
       "    </tr>\n",
       "    <tr>\n",
       "      <th>2</th>\n",
       "      <td>Maruti Suzuki Alto 800 Vxi</td>\n",
       "      <td>Maruti</td>\n",
       "      <td>2018</td>\n",
       "      <td>Ask For Price</td>\n",
       "      <td>22,000 kms</td>\n",
       "      <td>Petrol</td>\n",
       "    </tr>\n",
       "    <tr>\n",
       "      <th>3</th>\n",
       "      <td>Hyundai Grand i10 Magna 1.2 Kappa VTVT</td>\n",
       "      <td>Hyundai</td>\n",
       "      <td>2014</td>\n",
       "      <td>3,25,000</td>\n",
       "      <td>28,000 kms</td>\n",
       "      <td>Petrol</td>\n",
       "    </tr>\n",
       "    <tr>\n",
       "      <th>4</th>\n",
       "      <td>Ford EcoSport Titanium 1.5L TDCi</td>\n",
       "      <td>Ford</td>\n",
       "      <td>2014</td>\n",
       "      <td>5,75,000</td>\n",
       "      <td>36,000 kms</td>\n",
       "      <td>Diesel</td>\n",
       "    </tr>\n",
       "  </tbody>\n",
       "</table>\n",
       "</div>"
      ],
      "text/plain": [
       "                                     name   company  year          Price  \\\n",
       "0    Hyundai Santro Xing XO eRLX Euro III   Hyundai  2007         80,000   \n",
       "1                 Mahindra Jeep CL550 MDI  Mahindra  2006       4,25,000   \n",
       "2              Maruti Suzuki Alto 800 Vxi    Maruti  2018  Ask For Price   \n",
       "3  Hyundai Grand i10 Magna 1.2 Kappa VTVT   Hyundai  2014       3,25,000   \n",
       "4        Ford EcoSport Titanium 1.5L TDCi      Ford  2014       5,75,000   \n",
       "\n",
       "   kms_driven fuel_type  \n",
       "0  45,000 kms    Petrol  \n",
       "1      40 kms    Diesel  \n",
       "2  22,000 kms    Petrol  \n",
       "3  28,000 kms    Petrol  \n",
       "4  36,000 kms    Diesel  "
      ]
     },
     "execution_count": 5,
     "metadata": {},
     "output_type": "execute_result"
    }
   ],
   "source": [
    "df.head()"
   ]
  },
  {
   "cell_type": "code",
   "execution_count": 6,
   "id": "e19718b7",
   "metadata": {},
   "outputs": [
    {
     "data": {
      "text/plain": [
       "(892, 6)"
      ]
     },
     "execution_count": 6,
     "metadata": {},
     "output_type": "execute_result"
    }
   ],
   "source": [
    "df.shape"
   ]
  },
  {
   "cell_type": "code",
   "execution_count": 7,
   "id": "af8a3fc1",
   "metadata": {},
   "outputs": [
    {
     "name": "stdout",
     "output_type": "stream",
     "text": [
      "<class 'pandas.core.frame.DataFrame'>\n",
      "RangeIndex: 892 entries, 0 to 891\n",
      "Data columns (total 6 columns):\n",
      " #   Column      Non-Null Count  Dtype \n",
      "---  ------      --------------  ----- \n",
      " 0   name        892 non-null    object\n",
      " 1   company     892 non-null    object\n",
      " 2   year        892 non-null    object\n",
      " 3   Price       892 non-null    object\n",
      " 4   kms_driven  840 non-null    object\n",
      " 5   fuel_type   837 non-null    object\n",
      "dtypes: object(6)\n",
      "memory usage: 41.9+ KB\n"
     ]
    }
   ],
   "source": [
    "df.info()"
   ]
  },
  {
   "cell_type": "markdown",
   "id": "6657cbfa",
   "metadata": {},
   "source": [
    "# Errors\n",
    "`\n",
    "-year has many non year values\n",
    "-year object to int\n",
    "-price has ask for price value\n",
    "-price object to int\n",
    "-kms remove null values\n",
    "-kms object to int\n",
    "-fuel type remove null values\n",
    "-name take only first 3 words\n",
    "`"
   ]
  },
  {
   "cell_type": "markdown",
   "id": "6a55dc71",
   "metadata": {},
   "source": [
    "# Cleaning"
   ]
  },
  {
   "cell_type": "code",
   "execution_count": 8,
   "id": "9f7c3e5d",
   "metadata": {},
   "outputs": [],
   "source": [
    "df = df[df['year'].str.isnumeric()]"
   ]
  },
  {
   "cell_type": "code",
   "execution_count": 9,
   "id": "41a7bd22",
   "metadata": {},
   "outputs": [],
   "source": [
    "df['year'] =  df['year'].astype(int)"
   ]
  },
  {
   "cell_type": "code",
   "execution_count": 10,
   "id": "e9b3dae5",
   "metadata": {},
   "outputs": [],
   "source": [
    "df = df[df['Price']!= 'Ask For Price']"
   ]
  },
  {
   "cell_type": "code",
   "execution_count": 11,
   "id": "53406bf8",
   "metadata": {},
   "outputs": [],
   "source": [
    "df['Price'] = df['Price'].str.replace(',','')"
   ]
  },
  {
   "cell_type": "code",
   "execution_count": 12,
   "id": "1a03e011",
   "metadata": {},
   "outputs": [],
   "source": [
    "df['Price'] =  df['Price'].astype(int)"
   ]
  },
  {
   "cell_type": "code",
   "execution_count": 13,
   "id": "77b4c339",
   "metadata": {},
   "outputs": [],
   "source": [
    "df['kms_driven'] = df['kms_driven'].str.split(' ').str.get(0).str.replace(',','')"
   ]
  },
  {
   "cell_type": "code",
   "execution_count": 14,
   "id": "44c20b11",
   "metadata": {},
   "outputs": [],
   "source": [
    "df = df[df['kms_driven'].str.isnumeric()]"
   ]
  },
  {
   "cell_type": "code",
   "execution_count": 15,
   "id": "efb78bae",
   "metadata": {},
   "outputs": [],
   "source": [
    "df['kms_driven'] =  df['kms_driven'].astype(int)"
   ]
  },
  {
   "cell_type": "code",
   "execution_count": 16,
   "id": "94f932a3",
   "metadata": {},
   "outputs": [],
   "source": [
    "df['name'] = df['name'].str.split(' ').str.slice(0,3).str.join(' ')"
   ]
  },
  {
   "cell_type": "code",
   "execution_count": 17,
   "id": "f7a23864",
   "metadata": {},
   "outputs": [],
   "source": [
    "df.dropna(inplace=True)"
   ]
  },
  {
   "cell_type": "code",
   "execution_count": 20,
   "id": "9a900e80",
   "metadata": {},
   "outputs": [
    {
     "data": {
      "text/html": [
       "<div>\n",
       "<style scoped>\n",
       "    .dataframe tbody tr th:only-of-type {\n",
       "        vertical-align: middle;\n",
       "    }\n",
       "\n",
       "    .dataframe tbody tr th {\n",
       "        vertical-align: top;\n",
       "    }\n",
       "\n",
       "    .dataframe thead th {\n",
       "        text-align: right;\n",
       "    }\n",
       "</style>\n",
       "<table border=\"1\" class=\"dataframe\">\n",
       "  <thead>\n",
       "    <tr style=\"text-align: right;\">\n",
       "      <th></th>\n",
       "      <th>name</th>\n",
       "      <th>company</th>\n",
       "      <th>year</th>\n",
       "      <th>Price</th>\n",
       "      <th>kms_driven</th>\n",
       "      <th>fuel_type</th>\n",
       "    </tr>\n",
       "  </thead>\n",
       "  <tbody>\n",
       "    <tr>\n",
       "      <th>0</th>\n",
       "      <td>Hyundai Santro Xing</td>\n",
       "      <td>Hyundai</td>\n",
       "      <td>2007</td>\n",
       "      <td>80000</td>\n",
       "      <td>45000</td>\n",
       "      <td>Petrol</td>\n",
       "    </tr>\n",
       "    <tr>\n",
       "      <th>1</th>\n",
       "      <td>Mahindra Jeep CL550</td>\n",
       "      <td>Mahindra</td>\n",
       "      <td>2006</td>\n",
       "      <td>425000</td>\n",
       "      <td>40</td>\n",
       "      <td>Diesel</td>\n",
       "    </tr>\n",
       "    <tr>\n",
       "      <th>2</th>\n",
       "      <td>Hyundai Grand i10</td>\n",
       "      <td>Hyundai</td>\n",
       "      <td>2014</td>\n",
       "      <td>325000</td>\n",
       "      <td>28000</td>\n",
       "      <td>Petrol</td>\n",
       "    </tr>\n",
       "    <tr>\n",
       "      <th>3</th>\n",
       "      <td>Ford EcoSport Titanium</td>\n",
       "      <td>Ford</td>\n",
       "      <td>2014</td>\n",
       "      <td>575000</td>\n",
       "      <td>36000</td>\n",
       "      <td>Diesel</td>\n",
       "    </tr>\n",
       "    <tr>\n",
       "      <th>4</th>\n",
       "      <td>Ford Figo</td>\n",
       "      <td>Ford</td>\n",
       "      <td>2012</td>\n",
       "      <td>175000</td>\n",
       "      <td>41000</td>\n",
       "      <td>Diesel</td>\n",
       "    </tr>\n",
       "  </tbody>\n",
       "</table>\n",
       "</div>"
      ],
      "text/plain": [
       "                     name   company  year   Price  kms_driven fuel_type\n",
       "0     Hyundai Santro Xing   Hyundai  2007   80000       45000    Petrol\n",
       "1     Mahindra Jeep CL550  Mahindra  2006  425000          40    Diesel\n",
       "2       Hyundai Grand i10   Hyundai  2014  325000       28000    Petrol\n",
       "3  Ford EcoSport Titanium      Ford  2014  575000       36000    Diesel\n",
       "4               Ford Figo      Ford  2012  175000       41000    Diesel"
      ]
     },
     "execution_count": 20,
     "metadata": {},
     "output_type": "execute_result"
    }
   ],
   "source": [
    "df.head()"
   ]
  },
  {
   "cell_type": "code",
   "execution_count": 19,
   "id": "9d1ce217",
   "metadata": {},
   "outputs": [],
   "source": [
    "df = df.reset_index(drop=True)"
   ]
  },
  {
   "cell_type": "code",
   "execution_count": 21,
   "id": "bbe9b929",
   "metadata": {},
   "outputs": [
    {
     "name": "stdout",
     "output_type": "stream",
     "text": [
      "<class 'pandas.core.frame.DataFrame'>\n",
      "RangeIndex: 816 entries, 0 to 815\n",
      "Data columns (total 6 columns):\n",
      " #   Column      Non-Null Count  Dtype \n",
      "---  ------      --------------  ----- \n",
      " 0   name        816 non-null    object\n",
      " 1   company     816 non-null    object\n",
      " 2   year        816 non-null    int32 \n",
      " 3   Price       816 non-null    int32 \n",
      " 4   kms_driven  816 non-null    int32 \n",
      " 5   fuel_type   816 non-null    object\n",
      "dtypes: int32(3), object(3)\n",
      "memory usage: 28.8+ KB\n"
     ]
    }
   ],
   "source": [
    "df.info()"
   ]
  },
  {
   "cell_type": "code",
   "execution_count": 22,
   "id": "8c582580",
   "metadata": {},
   "outputs": [
    {
     "data": {
      "text/html": [
       "<div>\n",
       "<style scoped>\n",
       "    .dataframe tbody tr th:only-of-type {\n",
       "        vertical-align: middle;\n",
       "    }\n",
       "\n",
       "    .dataframe tbody tr th {\n",
       "        vertical-align: top;\n",
       "    }\n",
       "\n",
       "    .dataframe thead th {\n",
       "        text-align: right;\n",
       "    }\n",
       "</style>\n",
       "<table border=\"1\" class=\"dataframe\">\n",
       "  <thead>\n",
       "    <tr style=\"text-align: right;\">\n",
       "      <th></th>\n",
       "      <th>year</th>\n",
       "      <th>Price</th>\n",
       "      <th>kms_driven</th>\n",
       "    </tr>\n",
       "  </thead>\n",
       "  <tbody>\n",
       "    <tr>\n",
       "      <th>count</th>\n",
       "      <td>816.000000</td>\n",
       "      <td>8.160000e+02</td>\n",
       "      <td>816.000000</td>\n",
       "    </tr>\n",
       "    <tr>\n",
       "      <th>mean</th>\n",
       "      <td>2012.444853</td>\n",
       "      <td>4.117176e+05</td>\n",
       "      <td>46275.531863</td>\n",
       "    </tr>\n",
       "    <tr>\n",
       "      <th>std</th>\n",
       "      <td>4.002992</td>\n",
       "      <td>4.751844e+05</td>\n",
       "      <td>34297.428044</td>\n",
       "    </tr>\n",
       "    <tr>\n",
       "      <th>min</th>\n",
       "      <td>1995.000000</td>\n",
       "      <td>3.000000e+04</td>\n",
       "      <td>0.000000</td>\n",
       "    </tr>\n",
       "    <tr>\n",
       "      <th>25%</th>\n",
       "      <td>2010.000000</td>\n",
       "      <td>1.750000e+05</td>\n",
       "      <td>27000.000000</td>\n",
       "    </tr>\n",
       "    <tr>\n",
       "      <th>50%</th>\n",
       "      <td>2013.000000</td>\n",
       "      <td>2.999990e+05</td>\n",
       "      <td>41000.000000</td>\n",
       "    </tr>\n",
       "    <tr>\n",
       "      <th>75%</th>\n",
       "      <td>2015.000000</td>\n",
       "      <td>4.912500e+05</td>\n",
       "      <td>56818.500000</td>\n",
       "    </tr>\n",
       "    <tr>\n",
       "      <th>max</th>\n",
       "      <td>2019.000000</td>\n",
       "      <td>8.500003e+06</td>\n",
       "      <td>400000.000000</td>\n",
       "    </tr>\n",
       "  </tbody>\n",
       "</table>\n",
       "</div>"
      ],
      "text/plain": [
       "              year         Price     kms_driven\n",
       "count   816.000000  8.160000e+02     816.000000\n",
       "mean   2012.444853  4.117176e+05   46275.531863\n",
       "std       4.002992  4.751844e+05   34297.428044\n",
       "min    1995.000000  3.000000e+04       0.000000\n",
       "25%    2010.000000  1.750000e+05   27000.000000\n",
       "50%    2013.000000  2.999990e+05   41000.000000\n",
       "75%    2015.000000  4.912500e+05   56818.500000\n",
       "max    2019.000000  8.500003e+06  400000.000000"
      ]
     },
     "execution_count": 22,
     "metadata": {},
     "output_type": "execute_result"
    }
   ],
   "source": [
    "df.describe()"
   ]
  },
  {
   "cell_type": "code",
   "execution_count": 23,
   "id": "3dd0dd8c",
   "metadata": {},
   "outputs": [],
   "source": [
    "df = df[df['Price']<6e6].reset_index(drop=True)"
   ]
  },
  {
   "cell_type": "code",
   "execution_count": 24,
   "id": "db046761",
   "metadata": {},
   "outputs": [],
   "source": [
    "df.to_csv('Cleaned Car csv')"
   ]
  },
  {
   "cell_type": "code",
   "execution_count": 25,
   "id": "b2916860",
   "metadata": {},
   "outputs": [
    {
     "data": {
      "image/png": "[encoded data removed]",
      "text/plain": [
       "<Figure size 1500x700 with 1 Axes>"
      ]
     },
     "metadata": {},
     "output_type": "display_data"
    }
   ],
   "source": [
    "plt.subplots(figsize=(15,7))\n",
    "ax=sns.boxplot(x='company',y='Price',data=df)\n",
    "ax.set_xticklabels(ax.get_xticklabels(),rotation=40,ha='right')\n",
    "plt.show()"
   ]
  },
  {
   "cell_type": "code",
   "execution_count": 26,
   "id": "d8049bce",
   "metadata": {},
   "outputs": [
    {
     "data": {
      "text/plain": [
       "<seaborn.axisgrid.FacetGrid at 0x1ae32c8fd90>"
      ]
     },
     "execution_count": 26,
     "metadata": {},
     "output_type": "execute_result"
    },
    {
     "data": {
      "image/png": "[encoded data removed]",
      "text/plain": [
       "<Figure size 1050x700 with 1 Axes>"
      ]
     },
     "metadata": {},
     "output_type": "display_data"
    }
   ],
   "source": [
    "sns.relplot(x='kms_driven',y='Price',data=df,height=7,aspect=1.5)"
   ]
  },
  {
   "cell_type": "code",
   "execution_count": 27,
   "id": "976217e8",
   "metadata": {},
   "outputs": [
    {
     "data": {
      "text/plain": [
       "<seaborn.axisgrid.FacetGrid at 0x1ae32c8f880>"
      ]
     },
     "execution_count": 27,
     "metadata": {},
     "output_type": "execute_result"
    },
    {
     "data": {
      "image/png": "[encoded data removed]",
      "text/plain": [
       "<Figure size 1050x700 with 1 Axes>"
      ]
     },
     "metadata": {},
     "output_type": "display_data"
    }
   ],
   "source": [
    "sns.relplot(x='year',y='Price',data=df,height=7,aspect=1.5)"
   ]
  },
  {
   "cell_type": "markdown",
   "id": "dd9ead51",
   "metadata": {},
   "source": [
    "# Model"
   ]
  },
  {
   "cell_type": "code",
   "execution_count": 28,
   "id": "fed36cc7",
   "metadata": {},
   "outputs": [],
   "source": [
    "x = df.drop(columns='Price')\n",
    "y = df['Price']"
   ]
  },
  {
   "cell_type": "code",
   "execution_count": 29,
   "id": "6b094e30",
   "metadata": {},
   "outputs": [],
   "source": [
    "from sklearn.model_selection import train_test_split\n",
    "X_train,X_test,y_train,y_test = train_test_split(x,y,test_size=0.2)"
   ]
  },
  {
   "cell_type": "code",
   "execution_count": 30,
   "id": "c7b31af4",
   "metadata": {},
   "outputs": [],
   "source": [
    "from sklearn.linear_model import LinearRegression\n",
    "from sklearn.preprocessing import OneHotEncoder\n",
    "from sklearn.metrics import r2_score\n",
    "from sklearn.compose import make_column_transformer\n",
    "from sklearn.pipeline import make_pipeline"
   ]
  },
  {
   "cell_type": "code",
   "execution_count": 31,
   "id": "d0df5fdd",
   "metadata": {},
   "outputs": [
    {
     "data": {
      "text/plain": [
       "OneHotEncoder()"
      ]
     },
     "execution_count": 31,
     "metadata": {},
     "output_type": "execute_result"
    }
   ],
   "source": [
    "ohe = OneHotEncoder()\n",
    "ohe.fit(x[['name','company','fuel_type']])"
   ]
  },
  {
   "cell_type": "code",
   "execution_count": 32,
   "id": "1b0f207e",
   "metadata": {},
   "outputs": [],
   "source": [
    "column_trans = make_column_transformer((OneHotEncoder(categories = ohe.categories_),['name','company','fuel_type']),remainder='passthrough')"
   ]
  },
  {
   "cell_type": "code",
   "execution_count": 33,
   "id": "5f404d65",
   "metadata": {},
   "outputs": [],
   "source": [
    "lr = LinearRegression()"
   ]
  },
  {
   "cell_type": "code",
   "execution_count": 34,
   "id": "de1c7ab5",
   "metadata": {},
   "outputs": [],
   "source": [
    "pipe = make_pipeline(column_trans,lr)"
   ]
  },
  {
   "cell_type": "code",
   "execution_count": 35,
   "id": "77a2bcdc",
   "metadata": {},
   "outputs": [
    {
     "data": {
      "text/plain": [
       "Pipeline(steps=[('columntransformer',\n",
       "                 ColumnTransformer(remainder='passthrough',\n",
       "                                   transformers=[('onehotencoder',\n",
       "                                                  OneHotEncoder(categories=[array(['Audi A3 Cabriolet', 'Audi A4 1.8', 'Audi A4 2.0', 'Audi A6 2.0',\n",
       "       'Audi A8', 'Audi Q3 2.0', 'Audi Q5 2.0', 'Audi Q7', 'BMW 3 Series',\n",
       "       'BMW 5 Series', 'BMW 7 Series', 'BMW X1', 'BMW X1 sDrive20d',\n",
       "       'BMW X1 xDrive20d', 'Chevrolet Beat', 'Chevrolet Beat...\n",
       "                                                                            array(['Audi', 'BMW', 'Chevrolet', 'Datsun', 'Fiat', 'Force', 'Ford',\n",
       "       'Hindustan', 'Honda', 'Hyundai', 'Jaguar', 'Jeep', 'Land',\n",
       "       'Mahindra', 'Maruti', 'Mercedes', 'Mini', 'Mitsubishi', 'Nissan',\n",
       "       'Renault', 'Skoda', 'Tata', 'Toyota', 'Volkswagen', 'Volvo'],\n",
       "      dtype=object),\n",
       "                                                                            array(['Diesel', 'LPG', 'Petrol'], dtype=object)]),\n",
       "                                                  ['name', 'company',\n",
       "                                                   'fuel_type'])])),\n",
       "                ('linearregression', LinearRegression())])"
      ]
     },
     "execution_count": 35,
     "metadata": {},
     "output_type": "execute_result"
    }
   ],
   "source": [
    "pipe.fit(X_train,y_train)"
   ]
  },
  {
   "cell_type": "code",
   "execution_count": 36,
   "id": "48313123",
   "metadata": {},
   "outputs": [],
   "source": [
    "y_pred = pipe.predict(X_test)"
   ]
  },
  {
   "cell_type": "code",
   "execution_count": 37,
   "id": "213d2633",
   "metadata": {},
   "outputs": [
    {
     "data": {
      "text/html": [
       "<div>\n",
       "<style scoped>\n",
       "    .dataframe tbody tr th:only-of-type {\n",
       "        vertical-align: middle;\n",
       "    }\n",
       "\n",
       "    .dataframe tbody tr th {\n",
       "        vertical-align: top;\n",
       "    }\n",
       "\n",
       "    .dataframe thead th {\n",
       "        text-align: right;\n",
       "    }\n",
       "</style>\n",
       "<table border=\"1\" class=\"dataframe\">\n",
       "  <thead>\n",
       "    <tr style=\"text-align: right;\">\n",
       "      <th></th>\n",
       "      <th>Actual Data</th>\n",
       "      <th>Predicted Data</th>\n",
       "    </tr>\n",
       "  </thead>\n",
       "  <tbody>\n",
       "    <tr>\n",
       "      <th>153</th>\n",
       "      <td>189500</td>\n",
       "      <td>2.760702e+05</td>\n",
       "    </tr>\n",
       "    <tr>\n",
       "      <th>234</th>\n",
       "      <td>599999</td>\n",
       "      <td>6.183625e+05</td>\n",
       "    </tr>\n",
       "    <tr>\n",
       "      <th>797</th>\n",
       "      <td>350000</td>\n",
       "      <td>3.748359e+05</td>\n",
       "    </tr>\n",
       "    <tr>\n",
       "      <th>28</th>\n",
       "      <td>385000</td>\n",
       "      <td>3.676525e+05</td>\n",
       "    </tr>\n",
       "    <tr>\n",
       "      <th>31</th>\n",
       "      <td>105000</td>\n",
       "      <td>2.459861e+05</td>\n",
       "    </tr>\n",
       "    <tr>\n",
       "      <th>...</th>\n",
       "      <td>...</td>\n",
       "      <td>...</td>\n",
       "    </tr>\n",
       "    <tr>\n",
       "      <th>285</th>\n",
       "      <td>1891111</td>\n",
       "      <td>2.094891e+06</td>\n",
       "    </tr>\n",
       "    <tr>\n",
       "      <th>508</th>\n",
       "      <td>350000</td>\n",
       "      <td>4.092653e+05</td>\n",
       "    </tr>\n",
       "    <tr>\n",
       "      <th>601</th>\n",
       "      <td>280000</td>\n",
       "      <td>3.180701e+05</td>\n",
       "    </tr>\n",
       "    <tr>\n",
       "      <th>600</th>\n",
       "      <td>280000</td>\n",
       "      <td>3.180701e+05</td>\n",
       "    </tr>\n",
       "    <tr>\n",
       "      <th>757</th>\n",
       "      <td>225000</td>\n",
       "      <td>3.237181e+05</td>\n",
       "    </tr>\n",
       "  </tbody>\n",
       "</table>\n",
       "<p>163 rows × 2 columns</p>\n",
       "</div>"
      ],
      "text/plain": [
       "     Actual Data  Predicted Data\n",
       "153       189500    2.760702e+05\n",
       "234       599999    6.183625e+05\n",
       "797       350000    3.748359e+05\n",
       "28        385000    3.676525e+05\n",
       "31        105000    2.459861e+05\n",
       "..           ...             ...\n",
       "285      1891111    2.094891e+06\n",
       "508       350000    4.092653e+05\n",
       "601       280000    3.180701e+05\n",
       "600       280000    3.180701e+05\n",
       "757       225000    3.237181e+05\n",
       "\n",
       "[163 rows x 2 columns]"
      ]
     },
     "execution_count": 37,
     "metadata": {},
     "output_type": "execute_result"
    }
   ],
   "source": [
    "df_pred = pd.DataFrame({'Actual Data': y_test.squeeze(),'Predicted Data':y_pred.squeeze()})\n",
    "df_pred"
   ]
  },
  {
   "cell_type": "code",
   "execution_count": 38,
   "id": "011d5ca7",
   "metadata": {},
   "outputs": [
    {
     "name": "stdout",
     "output_type": "stream",
     "text": [
      "The accuracy of our model is 62.0%\n"
     ]
    }
   ],
   "source": [
    "score = r2_score(y_test,y_pred)\n",
    "print(\"The accuracy of our model is {}%\".format(round(score, 2) *100))"
   ]
  },
  {
   "cell_type": "code",
   "execution_count": 39,
   "id": "f981ac65",
   "metadata": {},
   "outputs": [],
   "source": [
    "# to get the max accuracy\n",
    "scores = []\n",
    "for i in range(1000):\n",
    "        X_train,X_test,y_train,y_test = train_test_split(x,y,test_size=0.2, random_state=i) \n",
    "        lr = LinearRegression()\n",
    "        pipe = make_pipeline(column_trans,lr)\n",
    "        pipe.fit(X_train,y_train)\n",
    "        y_pred = pipe.predict(X_test)\n",
    "        scores.append(r2_score(y_test,y_pred))"
   ]
  },
  {
   "cell_type": "code",
   "execution_count": 40,
   "id": "7e4a3c97",
   "metadata": {},
   "outputs": [
    {
     "data": {
      "text/plain": [
       "433"
      ]
     },
     "execution_count": 40,
     "metadata": {},
     "output_type": "execute_result"
    }
   ],
   "source": [
    "np.argmax(scores)"
   ]
  },
  {
   "cell_type": "code",
   "execution_count": 41,
   "id": "07794a26",
   "metadata": {},
   "outputs": [
    {
     "data": {
      "text/plain": [
       "0.8457088635857648"
      ]
     },
     "execution_count": 41,
     "metadata": {},
     "output_type": "execute_result"
    }
   ],
   "source": [
    "scores[np.argmax(scores)]"
   ]
  },
  {
   "cell_type": "code",
   "execution_count": 42,
   "id": "8a4dd59f",
   "metadata": {},
   "outputs": [
    {
     "data": {
      "text/plain": [
       "0.8457088635857648"
      ]
     },
     "execution_count": 42,
     "metadata": {},
     "output_type": "execute_result"
    }
   ],
   "source": [
    "X_train,X_test,y_train,y_test = train_test_split(x,y,test_size=0.2, random_state=np.argmax(scores)) \n",
    "lr = LinearRegression()\n",
    "pipe = make_pipeline(column_trans,lr)\n",
    "pipe.fit(X_train,y_train)\n",
    "y_pred = pipe.predict(X_test)\n",
    "r2_score(y_test,y_pred)"
   ]
  },
  {
   "cell_type": "code",
   "execution_count": 46,
   "id": "c3e8ec52",
   "metadata": {},
   "outputs": [
    {
     "data": {
      "text/plain": [
       "array([458750.08674345])"
      ]
     },
     "execution_count": 46,
     "metadata": {},
     "output_type": "execute_result"
    }
   ],
   "source": [
    "pipe.predict(pd.DataFrame([['Maruti Suzuki Swift','Maruti',2019,400,'Petrol']],columns=['name','company','year','kms_driven','fuel_type']))"
   ]
  },
  {
   "cell_type": "code",
   "execution_count": 44,
   "id": "8a2e1c81",
   "metadata": {},
   "outputs": [],
   "source": [
    "import pickle"
   ]
  },
  {
   "cell_type": "code",
   "execution_count": 47,
   "id": "1925c3a7",
   "metadata": {},
   "outputs": [],
   "source": [
    "pickle.dump(pipe,open('LinearRegression.pkl','wb'))"
   ]
  },
  {
   "cell_type": "code",
   "execution_count": 3,
   "id": "5d6116b9",
   "metadata": {},
   "outputs": [
    {
     "name": "stdout",
     "output_type": "stream",
     "text": [
      "Name: scikit-learn\n",
      "Version: 1.0.2\n",
      "Summary: A set of python modules for machine learning and data mining\n",
      "Home-page: http://scikit-learn.org\n",
      "Author: \n",
      "Author-email: \n",
      "License: new BSD\n",
      "Location: c:\\users\\kiit\\anaconda3\\lib\\site-packages\n",
      "Requires: joblib, numpy, scipy, threadpoolctl\n",
      "Required-by: scikit-learn-intelex\n",
      "Note: you may need to restart the kernel to use updated packages.\n"
     ]
    }
   ],
   "source": [
    " pip show scikit-learn"
   ]
  },
  {
   "cell_type": "code",
   "execution_count": null,
   "id": "b4bd447a",
   "metadata": {},
   "outputs": [],
   "source": []
  }
 ],
 "metadata": {
  "kernelspec": {
   "display_name": "Python 3 (ipykernel)",
   "language": "python",
   "name": "python3"
  },
  "language_info": {
   "codemirror_mode": {
    "name": "ipython",
    "version": 3
   },
   "file_extension": ".py",
   "mimetype": "text/x-python",
   "name": "python",
   "nbconvert_exporter": "python",
   "pygments_lexer": "ipython3",
   "version": "3.9.13"
  }
 },
 "nbformat": 4,
 "nbformat_minor": 5
}
